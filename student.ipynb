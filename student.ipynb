{
 "cells": [
  {
   "cell_type": "markdown",
   "metadata": {},
   "source": [
    "# Movie Production Recommendations"
   ]
  },
  {
   "cell_type": "markdown",
   "metadata": {},
   "source": [
    "![image info](https://static.amazon.jobs/teams/53/images/IMDb_Header_Page.jpg?1501027252)"
   ]
  },
  {
   "cell_type": "markdown",
   "metadata": {},
   "source": [
    "### Author: Aiden Bull"
   ]
  },
  {
   "cell_type": "markdown",
   "metadata": {},
   "source": [
    "# Overview\n",
    "A fictitious version of Microsoft is trying to start a new movie studio, but they don't know anything about the field. I used the data provided by Flatiron (a mix of data from review sites like IMDB and \"The Numbers\") to create three actionable insights for the studio and provided visualizations. This was done through basic data aggregation of previous movies. The three recommendations I came up with were to focus on producing movies from the two highest grossing genres (Animation & Adventure), have higher production budgets as this will yield to higher global grossing, and to release their movies during the months of May, June, July, or November since these months on average gross significantly more."
   ]
  },
  {
   "cell_type": "markdown",
   "metadata": {},
   "source": [
    "# Business Problem\n",
    "I chose to focus on these recommendations after focusing down a larger list of possible insights. Some of these insights I discarded because after visualizing them there was no actionable insights (eg. runtime vs global gross. There was no correlation in this dataset therefore no recommendation came from it). There are many other recommendations that could be reached but due to the difficulty of collecting some of the other data I would want I stuck to these three. I felt these were good starting off points. There are more specific insights that might be able to be gained from this dataset but the business problem states that the new studio doesn't have any background in the subject"
   ]
  },
  {
   "cell_type": "markdown",
   "metadata": {},
   "source": [
    "# Data Understanding\n",
    "This data was provided to me by Flatiron school. We could have optionally gone out and got our own data but I stuck to the tn.movie_budgets.csv.gz file and the IMDB relational database. These were sufficient in answering my questions. Ideally I would have gone out and gotten some of my own data. I felt that some of the datasets were a little small and I could have answered some other more interesting questions with other datasets. Due to time constraints I stuck with what was provided"
   ]
  },
  {
   "cell_type": "code",
   "execution_count": 1,
   "metadata": {},
   "outputs": [],
   "source": [
    "# Importing the relevant packages\n",
    "import pandas as pd\n",
    "import numpy as np\n",
    "import sqlite3\n",
    "import seaborn as sns\n",
    "import matplotlib.pyplot as plt\n",
    "%matplotlib inline "
   ]
  },
  {
   "cell_type": "markdown",
   "metadata": {},
   "source": [
    "# Data Preparation\n",
    "Loading in and previewing the datasets"
   ]
  },
  {
   "cell_type": "code",
   "execution_count": 2,
   "metadata": {},
   "outputs": [
    {
     "data": {
      "text/html": [
       "<div>\n",
       "<style scoped>\n",
       "    .dataframe tbody tr th:only-of-type {\n",
       "        vertical-align: middle;\n",
       "    }\n",
       "\n",
       "    .dataframe tbody tr th {\n",
       "        vertical-align: top;\n",
       "    }\n",
       "\n",
       "    .dataframe thead th {\n",
       "        text-align: right;\n",
       "    }\n",
       "</style>\n",
       "<table border=\"1\" class=\"dataframe\">\n",
       "  <thead>\n",
       "    <tr style=\"text-align: right;\">\n",
       "      <th></th>\n",
       "      <th>release_date</th>\n",
       "      <th>movie</th>\n",
       "      <th>production_budget</th>\n",
       "      <th>domestic_gross</th>\n",
       "      <th>worldwide_gross</th>\n",
       "    </tr>\n",
       "    <tr>\n",
       "      <th>id</th>\n",
       "      <th></th>\n",
       "      <th></th>\n",
       "      <th></th>\n",
       "      <th></th>\n",
       "      <th></th>\n",
       "    </tr>\n",
       "  </thead>\n",
       "  <tbody>\n",
       "    <tr>\n",
       "      <th>1</th>\n",
       "      <td>Dec 18, 2009</td>\n",
       "      <td>Avatar</td>\n",
       "      <td>$425,000,000</td>\n",
       "      <td>$760,507,625</td>\n",
       "      <td>$2,776,345,279</td>\n",
       "    </tr>\n",
       "    <tr>\n",
       "      <th>2</th>\n",
       "      <td>May 20, 2011</td>\n",
       "      <td>Pirates of the Caribbean: On Stranger Tides</td>\n",
       "      <td>$410,600,000</td>\n",
       "      <td>$241,063,875</td>\n",
       "      <td>$1,045,663,875</td>\n",
       "    </tr>\n",
       "    <tr>\n",
       "      <th>3</th>\n",
       "      <td>Jun 7, 2019</td>\n",
       "      <td>Dark Phoenix</td>\n",
       "      <td>$350,000,000</td>\n",
       "      <td>$42,762,350</td>\n",
       "      <td>$149,762,350</td>\n",
       "    </tr>\n",
       "    <tr>\n",
       "      <th>4</th>\n",
       "      <td>May 1, 2015</td>\n",
       "      <td>Avengers: Age of Ultron</td>\n",
       "      <td>$330,600,000</td>\n",
       "      <td>$459,005,868</td>\n",
       "      <td>$1,403,013,963</td>\n",
       "    </tr>\n",
       "    <tr>\n",
       "      <th>5</th>\n",
       "      <td>Dec 15, 2017</td>\n",
       "      <td>Star Wars Ep. VIII: The Last Jedi</td>\n",
       "      <td>$317,000,000</td>\n",
       "      <td>$620,181,382</td>\n",
       "      <td>$1,316,721,747</td>\n",
       "    </tr>\n",
       "  </tbody>\n",
       "</table>\n",
       "</div>"
      ],
      "text/plain": [
       "    release_date                                        movie  \\\n",
       "id                                                              \n",
       "1   Dec 18, 2009                                       Avatar   \n",
       "2   May 20, 2011  Pirates of the Caribbean: On Stranger Tides   \n",
       "3    Jun 7, 2019                                 Dark Phoenix   \n",
       "4    May 1, 2015                      Avengers: Age of Ultron   \n",
       "5   Dec 15, 2017            Star Wars Ep. VIII: The Last Jedi   \n",
       "\n",
       "   production_budget domestic_gross worldwide_gross  \n",
       "id                                                   \n",
       "1       $425,000,000   $760,507,625  $2,776,345,279  \n",
       "2       $410,600,000   $241,063,875  $1,045,663,875  \n",
       "3       $350,000,000    $42,762,350    $149,762,350  \n",
       "4       $330,600,000   $459,005,868  $1,403,013,963  \n",
       "5       $317,000,000   $620,181,382  $1,316,721,747  "
      ]
     },
     "execution_count": 2,
     "metadata": {},
     "output_type": "execute_result"
    }
   ],
   "source": [
    "# Loading in the data from a csv\n",
    "movie_budgets_df = pd.read_csv('ZippedData/tn.movie_budgets.csv.gz', index_col=0)\n",
    "movie_budgets_df.head() # Previewing the Dataframe (df)"
   ]
  },
  {
   "cell_type": "code",
   "execution_count": 3,
   "metadata": {},
   "outputs": [
    {
     "name": "stdout",
     "output_type": "stream",
     "text": [
      "<class 'pandas.core.frame.DataFrame'>\n",
      "Int64Index: 5782 entries, 1 to 82\n",
      "Data columns (total 5 columns):\n",
      " #   Column             Non-Null Count  Dtype \n",
      "---  ------             --------------  ----- \n",
      " 0   release_date       5782 non-null   object\n",
      " 1   movie              5782 non-null   object\n",
      " 2   production_budget  5782 non-null   object\n",
      " 3   domestic_gross     5782 non-null   object\n",
      " 4   worldwide_gross    5782 non-null   object\n",
      "dtypes: object(5)\n",
      "memory usage: 271.0+ KB\n"
     ]
    }
   ],
   "source": [
    "movie_budgets_df.info() # Checking the dtypes and number of entries"
   ]
  },
  {
   "cell_type": "markdown",
   "metadata": {},
   "source": [
    "Another dataset comes from a sql database <br />\n",
    "The table relations: <br />"
   ]
  },
  {
   "cell_type": "markdown",
   "metadata": {},
   "source": [
    "![image info](https://raw.githubusercontent.com/learn-co-curriculum/dsc-phase-1-project-v2-4/master/movie_data_erd.jpeg)"
   ]
  },
  {
   "cell_type": "markdown",
   "metadata": {},
   "source": [
    "I will be focusing on the movie_basics and movie_ratings tables"
   ]
  },
  {
   "cell_type": "code",
   "execution_count": 4,
   "metadata": {},
   "outputs": [],
   "source": [
    "conn = sqlite3.Connection('ZippedData/im_unzipped.db') # Making the connection to the database"
   ]
  },
  {
   "cell_type": "code",
   "execution_count": 5,
   "metadata": {},
   "outputs": [],
   "source": [
    "# Grabbing the info from the two tables I want and putting them into a pandas Dataframe (df)\n",
    "genres_df = pd.read_sql('''\n",
    "SELECT DISTINCT movie_id, primary_title, genres, averagerating, start_year\n",
    "FROM movie_ratings\n",
    "INNER JOIN movie_basics\n",
    "    USING(movie_id)\n",
    "''', conn)"
   ]
  },
  {
   "cell_type": "code",
   "execution_count": 6,
   "metadata": {},
   "outputs": [
    {
     "data": {
      "text/html": [
       "<div>\n",
       "<style scoped>\n",
       "    .dataframe tbody tr th:only-of-type {\n",
       "        vertical-align: middle;\n",
       "    }\n",
       "\n",
       "    .dataframe tbody tr th {\n",
       "        vertical-align: top;\n",
       "    }\n",
       "\n",
       "    .dataframe thead th {\n",
       "        text-align: right;\n",
       "    }\n",
       "</style>\n",
       "<table border=\"1\" class=\"dataframe\">\n",
       "  <thead>\n",
       "    <tr style=\"text-align: right;\">\n",
       "      <th></th>\n",
       "      <th>movie_id</th>\n",
       "      <th>primary_title</th>\n",
       "      <th>genres</th>\n",
       "      <th>averagerating</th>\n",
       "      <th>start_year</th>\n",
       "    </tr>\n",
       "  </thead>\n",
       "  <tbody>\n",
       "    <tr>\n",
       "      <th>0</th>\n",
       "      <td>tt10356526</td>\n",
       "      <td>Laiye Je Yaarian</td>\n",
       "      <td>Romance</td>\n",
       "      <td>8.3</td>\n",
       "      <td>2019</td>\n",
       "    </tr>\n",
       "    <tr>\n",
       "      <th>1</th>\n",
       "      <td>tt10384606</td>\n",
       "      <td>Borderless</td>\n",
       "      <td>Documentary</td>\n",
       "      <td>8.9</td>\n",
       "      <td>2019</td>\n",
       "    </tr>\n",
       "    <tr>\n",
       "      <th>2</th>\n",
       "      <td>tt1042974</td>\n",
       "      <td>Just Inès</td>\n",
       "      <td>Drama</td>\n",
       "      <td>6.4</td>\n",
       "      <td>2010</td>\n",
       "    </tr>\n",
       "    <tr>\n",
       "      <th>3</th>\n",
       "      <td>tt1043726</td>\n",
       "      <td>The Legend of Hercules</td>\n",
       "      <td>Action,Adventure,Fantasy</td>\n",
       "      <td>4.2</td>\n",
       "      <td>2014</td>\n",
       "    </tr>\n",
       "    <tr>\n",
       "      <th>4</th>\n",
       "      <td>tt1060240</td>\n",
       "      <td>Até Onde?</td>\n",
       "      <td>Mystery,Thriller</td>\n",
       "      <td>6.5</td>\n",
       "      <td>2011</td>\n",
       "    </tr>\n",
       "  </tbody>\n",
       "</table>\n",
       "</div>"
      ],
      "text/plain": [
       "     movie_id           primary_title                    genres  \\\n",
       "0  tt10356526        Laiye Je Yaarian                   Romance   \n",
       "1  tt10384606              Borderless               Documentary   \n",
       "2   tt1042974               Just Inès                     Drama   \n",
       "3   tt1043726  The Legend of Hercules  Action,Adventure,Fantasy   \n",
       "4   tt1060240               Até Onde?          Mystery,Thriller   \n",
       "\n",
       "   averagerating  start_year  \n",
       "0            8.3        2019  \n",
       "1            8.9        2019  \n",
       "2            6.4        2010  \n",
       "3            4.2        2014  \n",
       "4            6.5        2011  "
      ]
     },
     "execution_count": 6,
     "metadata": {},
     "output_type": "execute_result"
    }
   ],
   "source": [
    "genres_df.head() # Previewing the df"
   ]
  },
  {
   "cell_type": "code",
   "execution_count": 7,
   "metadata": {},
   "outputs": [
    {
     "name": "stdout",
     "output_type": "stream",
     "text": [
      "<class 'pandas.core.frame.DataFrame'>\n",
      "RangeIndex: 73856 entries, 0 to 73855\n",
      "Data columns (total 5 columns):\n",
      " #   Column         Non-Null Count  Dtype  \n",
      "---  ------         --------------  -----  \n",
      " 0   movie_id       73856 non-null  object \n",
      " 1   primary_title  73856 non-null  object \n",
      " 2   genres         73052 non-null  object \n",
      " 3   averagerating  73856 non-null  float64\n",
      " 4   start_year     73856 non-null  int64  \n",
      "dtypes: float64(1), int64(1), object(3)\n",
      "memory usage: 2.8+ MB\n"
     ]
    }
   ],
   "source": [
    "genres_df.info() # Checking the dtypes and number of entries"
   ]
  },
  {
   "cell_type": "markdown",
   "metadata": {},
   "source": [
    "# Data Cleaning\n",
    "Both of these tables will require some cleaning/formatting to prepare them for our visualizations"
   ]
  },
  {
   "cell_type": "code",
   "execution_count": 8,
   "metadata": {},
   "outputs": [
    {
     "data": {
      "text/html": [
       "<div>\n",
       "<style scoped>\n",
       "    .dataframe tbody tr th:only-of-type {\n",
       "        vertical-align: middle;\n",
       "    }\n",
       "\n",
       "    .dataframe tbody tr th {\n",
       "        vertical-align: top;\n",
       "    }\n",
       "\n",
       "    .dataframe thead th {\n",
       "        text-align: right;\n",
       "    }\n",
       "</style>\n",
       "<table border=\"1\" class=\"dataframe\">\n",
       "  <thead>\n",
       "    <tr style=\"text-align: right;\">\n",
       "      <th></th>\n",
       "      <th>release_date</th>\n",
       "      <th>movie</th>\n",
       "      <th>production_budget</th>\n",
       "      <th>domestic_gross</th>\n",
       "      <th>worldwide_gross</th>\n",
       "    </tr>\n",
       "    <tr>\n",
       "      <th>id</th>\n",
       "      <th></th>\n",
       "      <th></th>\n",
       "      <th></th>\n",
       "      <th></th>\n",
       "      <th></th>\n",
       "    </tr>\n",
       "  </thead>\n",
       "  <tbody>\n",
       "    <tr>\n",
       "      <th>74</th>\n",
       "      <td>May 19, 1998</td>\n",
       "      <td>Godzilla</td>\n",
       "      <td>$125,000,000</td>\n",
       "      <td>$136,314,294</td>\n",
       "      <td>$376,000,000</td>\n",
       "    </tr>\n",
       "    <tr>\n",
       "      <th>9</th>\n",
       "      <td>Nov 21, 2018</td>\n",
       "      <td>Robin Hood</td>\n",
       "      <td>$99,000,000</td>\n",
       "      <td>$30,824,628</td>\n",
       "      <td>$84,747,441</td>\n",
       "    </tr>\n",
       "    <tr>\n",
       "      <th>85</th>\n",
       "      <td>Jul 8, 2005</td>\n",
       "      <td>Fantastic Four</td>\n",
       "      <td>$87,500,000</td>\n",
       "      <td>$154,696,080</td>\n",
       "      <td>$333,132,750</td>\n",
       "    </tr>\n",
       "    <tr>\n",
       "      <th>44</th>\n",
       "      <td>May 7, 1999</td>\n",
       "      <td>The Mummy</td>\n",
       "      <td>$80,000,000</td>\n",
       "      <td>$155,385,488</td>\n",
       "      <td>$416,385,488</td>\n",
       "    </tr>\n",
       "    <tr>\n",
       "      <th>8</th>\n",
       "      <td>Jun 13, 1997</td>\n",
       "      <td>Hercules</td>\n",
       "      <td>$70,000,000</td>\n",
       "      <td>$99,112,101</td>\n",
       "      <td>$250,700,000</td>\n",
       "    </tr>\n",
       "    <tr>\n",
       "      <th>...</th>\n",
       "      <td>...</td>\n",
       "      <td>...</td>\n",
       "      <td>...</td>\n",
       "      <td>...</td>\n",
       "      <td>...</td>\n",
       "    </tr>\n",
       "    <tr>\n",
       "      <th>69</th>\n",
       "      <td>Nov 16, 1942</td>\n",
       "      <td>Cat People</td>\n",
       "      <td>$134,000</td>\n",
       "      <td>$4,000,000</td>\n",
       "      <td>$8,000,000</td>\n",
       "    </tr>\n",
       "    <tr>\n",
       "      <th>77</th>\n",
       "      <td>Oct 1, 1968</td>\n",
       "      <td>Night of the Living Dead</td>\n",
       "      <td>$114,000</td>\n",
       "      <td>$12,087,064</td>\n",
       "      <td>$30,087,064</td>\n",
       "    </tr>\n",
       "    <tr>\n",
       "      <th>78</th>\n",
       "      <td>Feb 8, 1915</td>\n",
       "      <td>The Birth of a Nation</td>\n",
       "      <td>$110,000</td>\n",
       "      <td>$10,000,000</td>\n",
       "      <td>$11,000,000</td>\n",
       "    </tr>\n",
       "    <tr>\n",
       "      <th>100</th>\n",
       "      <td>Aug 30, 1972</td>\n",
       "      <td>The Last House on the Left</td>\n",
       "      <td>$87,000</td>\n",
       "      <td>$3,100,000</td>\n",
       "      <td>$3,100,000</td>\n",
       "    </tr>\n",
       "    <tr>\n",
       "      <th>19</th>\n",
       "      <td>Feb 22, 2008</td>\n",
       "      <td>The Signal</td>\n",
       "      <td>$50,000</td>\n",
       "      <td>$251,150</td>\n",
       "      <td>$406,299</td>\n",
       "    </tr>\n",
       "  </tbody>\n",
       "</table>\n",
       "<p>84 rows × 5 columns</p>\n",
       "</div>"
      ],
      "text/plain": [
       "     release_date                       movie production_budget  \\\n",
       "id                                                                \n",
       "74   May 19, 1998                    Godzilla      $125,000,000   \n",
       "9    Nov 21, 2018                  Robin Hood       $99,000,000   \n",
       "85    Jul 8, 2005              Fantastic Four       $87,500,000   \n",
       "44    May 7, 1999                   The Mummy       $80,000,000   \n",
       "8    Jun 13, 1997                    Hercules       $70,000,000   \n",
       "..            ...                         ...               ...   \n",
       "69   Nov 16, 1942                  Cat People          $134,000   \n",
       "77    Oct 1, 1968    Night of the Living Dead          $114,000   \n",
       "78    Feb 8, 1915       The Birth of a Nation          $110,000   \n",
       "100  Aug 30, 1972  The Last House on the Left           $87,000   \n",
       "19   Feb 22, 2008                  The Signal           $50,000   \n",
       "\n",
       "    domestic_gross worldwide_gross  \n",
       "id                                  \n",
       "74    $136,314,294    $376,000,000  \n",
       "9      $30,824,628     $84,747,441  \n",
       "85    $154,696,080    $333,132,750  \n",
       "44    $155,385,488    $416,385,488  \n",
       "8      $99,112,101    $250,700,000  \n",
       "..             ...             ...  \n",
       "69      $4,000,000      $8,000,000  \n",
       "77     $12,087,064     $30,087,064  \n",
       "78     $10,000,000     $11,000,000  \n",
       "100     $3,100,000      $3,100,000  \n",
       "19        $251,150        $406,299  \n",
       "\n",
       "[84 rows x 5 columns]"
      ]
     },
     "execution_count": 8,
     "metadata": {},
     "output_type": "execute_result"
    }
   ],
   "source": [
    "# Checking for duplicates in the movie_budgets_df\n",
    "movie_budgets_df[movie_budgets_df.duplicated(subset=['movie'])]"
   ]
  },
  {
   "cell_type": "code",
   "execution_count": 9,
   "metadata": {},
   "outputs": [],
   "source": [
    "formatted_movie_budgets_df = movie_budgets_df.copy() # Creating a copy to format\n",
    "# Dropping duplicates\n",
    "formatted_movie_budgets_df = formatted_movie_budgets_df.drop_duplicates() "
   ]
  },
  {
   "cell_type": "code",
   "execution_count": 10,
   "metadata": {},
   "outputs": [],
   "source": [
    "# Dropping domestic gross since we don't use it for our visualization\n",
    "formatted_movie_budgets_df.drop('domestic_gross', axis=1, inplace=True)"
   ]
  },
  {
   "cell_type": "code",
   "execution_count": 11,
   "metadata": {},
   "outputs": [],
   "source": [
    "# Setting the release_date to a datetime format \n",
    "formatted_movie_budgets_df['release_date'] = pd.to_datetime(formatted_movie_budgets_df['release_date'])"
   ]
  },
  {
   "cell_type": "code",
   "execution_count": 12,
   "metadata": {},
   "outputs": [],
   "source": [
    "# Formatting the numbers\n",
    "for r in ['production_budget', 'worldwide_gross']:\n",
    "    # Removes $ symbol amd ,\n",
    "    formatted_movie_budgets_df[r] = formatted_movie_budgets_df[r].str.replace('$', '').str.replace(',', '') \n",
    "    formatted_movie_budgets_df[r] = formatted_movie_budgets_df[r].astype(np.int64) # Converts from object (str) to int64\n",
    "    # Divides by 100,000,000 to make it easier for the visualization\n",
    "    formatted_movie_budgets_df[r] = formatted_movie_budgets_df[r]/100000000 "
   ]
  },
  {
   "cell_type": "code",
   "execution_count": 13,
   "metadata": {},
   "outputs": [],
   "source": [
    "# Adding a release month column for our visualization\n",
    "formatted_movie_budgets_df['release_month'] = formatted_movie_budgets_df['release_date'].dt.month_name()"
   ]
  },
  {
   "cell_type": "markdown",
   "metadata": {},
   "source": [
    "Reviewing what our data looked like in the begining"
   ]
  },
  {
   "cell_type": "code",
   "execution_count": 14,
   "metadata": {},
   "outputs": [
    {
     "data": {
      "text/html": [
       "<div>\n",
       "<style scoped>\n",
       "    .dataframe tbody tr th:only-of-type {\n",
       "        vertical-align: middle;\n",
       "    }\n",
       "\n",
       "    .dataframe tbody tr th {\n",
       "        vertical-align: top;\n",
       "    }\n",
       "\n",
       "    .dataframe thead th {\n",
       "        text-align: right;\n",
       "    }\n",
       "</style>\n",
       "<table border=\"1\" class=\"dataframe\">\n",
       "  <thead>\n",
       "    <tr style=\"text-align: right;\">\n",
       "      <th></th>\n",
       "      <th>release_date</th>\n",
       "      <th>movie</th>\n",
       "      <th>production_budget</th>\n",
       "      <th>domestic_gross</th>\n",
       "      <th>worldwide_gross</th>\n",
       "    </tr>\n",
       "    <tr>\n",
       "      <th>id</th>\n",
       "      <th></th>\n",
       "      <th></th>\n",
       "      <th></th>\n",
       "      <th></th>\n",
       "      <th></th>\n",
       "    </tr>\n",
       "  </thead>\n",
       "  <tbody>\n",
       "    <tr>\n",
       "      <th>1</th>\n",
       "      <td>Dec 18, 2009</td>\n",
       "      <td>Avatar</td>\n",
       "      <td>$425,000,000</td>\n",
       "      <td>$760,507,625</td>\n",
       "      <td>$2,776,345,279</td>\n",
       "    </tr>\n",
       "    <tr>\n",
       "      <th>2</th>\n",
       "      <td>May 20, 2011</td>\n",
       "      <td>Pirates of the Caribbean: On Stranger Tides</td>\n",
       "      <td>$410,600,000</td>\n",
       "      <td>$241,063,875</td>\n",
       "      <td>$1,045,663,875</td>\n",
       "    </tr>\n",
       "    <tr>\n",
       "      <th>3</th>\n",
       "      <td>Jun 7, 2019</td>\n",
       "      <td>Dark Phoenix</td>\n",
       "      <td>$350,000,000</td>\n",
       "      <td>$42,762,350</td>\n",
       "      <td>$149,762,350</td>\n",
       "    </tr>\n",
       "    <tr>\n",
       "      <th>4</th>\n",
       "      <td>May 1, 2015</td>\n",
       "      <td>Avengers: Age of Ultron</td>\n",
       "      <td>$330,600,000</td>\n",
       "      <td>$459,005,868</td>\n",
       "      <td>$1,403,013,963</td>\n",
       "    </tr>\n",
       "    <tr>\n",
       "      <th>5</th>\n",
       "      <td>Dec 15, 2017</td>\n",
       "      <td>Star Wars Ep. VIII: The Last Jedi</td>\n",
       "      <td>$317,000,000</td>\n",
       "      <td>$620,181,382</td>\n",
       "      <td>$1,316,721,747</td>\n",
       "    </tr>\n",
       "  </tbody>\n",
       "</table>\n",
       "</div>"
      ],
      "text/plain": [
       "    release_date                                        movie  \\\n",
       "id                                                              \n",
       "1   Dec 18, 2009                                       Avatar   \n",
       "2   May 20, 2011  Pirates of the Caribbean: On Stranger Tides   \n",
       "3    Jun 7, 2019                                 Dark Phoenix   \n",
       "4    May 1, 2015                      Avengers: Age of Ultron   \n",
       "5   Dec 15, 2017            Star Wars Ep. VIII: The Last Jedi   \n",
       "\n",
       "   production_budget domestic_gross worldwide_gross  \n",
       "id                                                   \n",
       "1       $425,000,000   $760,507,625  $2,776,345,279  \n",
       "2       $410,600,000   $241,063,875  $1,045,663,875  \n",
       "3       $350,000,000    $42,762,350    $149,762,350  \n",
       "4       $330,600,000   $459,005,868  $1,403,013,963  \n",
       "5       $317,000,000   $620,181,382  $1,316,721,747  "
      ]
     },
     "execution_count": 14,
     "metadata": {},
     "output_type": "execute_result"
    }
   ],
   "source": [
    "movie_budgets_df.head()"
   ]
  },
  {
   "cell_type": "markdown",
   "metadata": {},
   "source": [
    "Now this is what our data looks like after cleaning it and formatting for our specific visualization. All the steps I took turned the numbers from a human readable format to a format the computer can process and graph more easily."
   ]
  },
  {
   "cell_type": "code",
   "execution_count": 15,
   "metadata": {},
   "outputs": [
    {
     "data": {
      "text/html": [
       "<div>\n",
       "<style scoped>\n",
       "    .dataframe tbody tr th:only-of-type {\n",
       "        vertical-align: middle;\n",
       "    }\n",
       "\n",
       "    .dataframe tbody tr th {\n",
       "        vertical-align: top;\n",
       "    }\n",
       "\n",
       "    .dataframe thead th {\n",
       "        text-align: right;\n",
       "    }\n",
       "</style>\n",
       "<table border=\"1\" class=\"dataframe\">\n",
       "  <thead>\n",
       "    <tr style=\"text-align: right;\">\n",
       "      <th></th>\n",
       "      <th>release_date</th>\n",
       "      <th>movie</th>\n",
       "      <th>production_budget</th>\n",
       "      <th>worldwide_gross</th>\n",
       "      <th>release_month</th>\n",
       "    </tr>\n",
       "    <tr>\n",
       "      <th>id</th>\n",
       "      <th></th>\n",
       "      <th></th>\n",
       "      <th></th>\n",
       "      <th></th>\n",
       "      <th></th>\n",
       "    </tr>\n",
       "  </thead>\n",
       "  <tbody>\n",
       "    <tr>\n",
       "      <th>1</th>\n",
       "      <td>2009-12-18</td>\n",
       "      <td>Avatar</td>\n",
       "      <td>4.250</td>\n",
       "      <td>27.763453</td>\n",
       "      <td>December</td>\n",
       "    </tr>\n",
       "    <tr>\n",
       "      <th>2</th>\n",
       "      <td>2011-05-20</td>\n",
       "      <td>Pirates of the Caribbean: On Stranger Tides</td>\n",
       "      <td>4.106</td>\n",
       "      <td>10.456639</td>\n",
       "      <td>May</td>\n",
       "    </tr>\n",
       "    <tr>\n",
       "      <th>3</th>\n",
       "      <td>2019-06-07</td>\n",
       "      <td>Dark Phoenix</td>\n",
       "      <td>3.500</td>\n",
       "      <td>1.497623</td>\n",
       "      <td>June</td>\n",
       "    </tr>\n",
       "    <tr>\n",
       "      <th>4</th>\n",
       "      <td>2015-05-01</td>\n",
       "      <td>Avengers: Age of Ultron</td>\n",
       "      <td>3.306</td>\n",
       "      <td>14.030140</td>\n",
       "      <td>May</td>\n",
       "    </tr>\n",
       "    <tr>\n",
       "      <th>5</th>\n",
       "      <td>2017-12-15</td>\n",
       "      <td>Star Wars Ep. VIII: The Last Jedi</td>\n",
       "      <td>3.170</td>\n",
       "      <td>13.167217</td>\n",
       "      <td>December</td>\n",
       "    </tr>\n",
       "  </tbody>\n",
       "</table>\n",
       "</div>"
      ],
      "text/plain": [
       "   release_date                                        movie  \\\n",
       "id                                                             \n",
       "1    2009-12-18                                       Avatar   \n",
       "2    2011-05-20  Pirates of the Caribbean: On Stranger Tides   \n",
       "3    2019-06-07                                 Dark Phoenix   \n",
       "4    2015-05-01                      Avengers: Age of Ultron   \n",
       "5    2017-12-15            Star Wars Ep. VIII: The Last Jedi   \n",
       "\n",
       "    production_budget  worldwide_gross release_month  \n",
       "id                                                    \n",
       "1               4.250        27.763453      December  \n",
       "2               4.106        10.456639           May  \n",
       "3               3.500         1.497623          June  \n",
       "4               3.306        14.030140           May  \n",
       "5               3.170        13.167217      December  "
      ]
     },
     "execution_count": 15,
     "metadata": {},
     "output_type": "execute_result"
    }
   ],
   "source": [
    "formatted_movie_budgets_df.head()"
   ]
  },
  {
   "cell_type": "markdown",
   "metadata": {},
   "source": [
    "### Now to clean our second Dataframe"
   ]
  },
  {
   "cell_type": "code",
   "execution_count": 16,
   "metadata": {},
   "outputs": [
    {
     "data": {
      "text/html": [
       "<div>\n",
       "<style scoped>\n",
       "    .dataframe tbody tr th:only-of-type {\n",
       "        vertical-align: middle;\n",
       "    }\n",
       "\n",
       "    .dataframe tbody tr th {\n",
       "        vertical-align: top;\n",
       "    }\n",
       "\n",
       "    .dataframe thead th {\n",
       "        text-align: right;\n",
       "    }\n",
       "</style>\n",
       "<table border=\"1\" class=\"dataframe\">\n",
       "  <thead>\n",
       "    <tr style=\"text-align: right;\">\n",
       "      <th></th>\n",
       "      <th>movie_id</th>\n",
       "      <th>primary_title</th>\n",
       "      <th>genres</th>\n",
       "      <th>averagerating</th>\n",
       "      <th>start_year</th>\n",
       "    </tr>\n",
       "  </thead>\n",
       "  <tbody>\n",
       "    <tr>\n",
       "      <th>0</th>\n",
       "      <td>tt10356526</td>\n",
       "      <td>Laiye Je Yaarian</td>\n",
       "      <td>Romance</td>\n",
       "      <td>8.3</td>\n",
       "      <td>2019</td>\n",
       "    </tr>\n",
       "    <tr>\n",
       "      <th>1</th>\n",
       "      <td>tt10384606</td>\n",
       "      <td>Borderless</td>\n",
       "      <td>Documentary</td>\n",
       "      <td>8.9</td>\n",
       "      <td>2019</td>\n",
       "    </tr>\n",
       "    <tr>\n",
       "      <th>2</th>\n",
       "      <td>tt1042974</td>\n",
       "      <td>Just Inès</td>\n",
       "      <td>Drama</td>\n",
       "      <td>6.4</td>\n",
       "      <td>2010</td>\n",
       "    </tr>\n",
       "    <tr>\n",
       "      <th>3</th>\n",
       "      <td>tt1043726</td>\n",
       "      <td>The Legend of Hercules</td>\n",
       "      <td>Action,Adventure,Fantasy</td>\n",
       "      <td>4.2</td>\n",
       "      <td>2014</td>\n",
       "    </tr>\n",
       "    <tr>\n",
       "      <th>4</th>\n",
       "      <td>tt1060240</td>\n",
       "      <td>Até Onde?</td>\n",
       "      <td>Mystery,Thriller</td>\n",
       "      <td>6.5</td>\n",
       "      <td>2011</td>\n",
       "    </tr>\n",
       "  </tbody>\n",
       "</table>\n",
       "</div>"
      ],
      "text/plain": [
       "     movie_id           primary_title                    genres  \\\n",
       "0  tt10356526        Laiye Je Yaarian                   Romance   \n",
       "1  tt10384606              Borderless               Documentary   \n",
       "2   tt1042974               Just Inès                     Drama   \n",
       "3   tt1043726  The Legend of Hercules  Action,Adventure,Fantasy   \n",
       "4   tt1060240               Até Onde?          Mystery,Thriller   \n",
       "\n",
       "   averagerating  start_year  \n",
       "0            8.3        2019  \n",
       "1            8.9        2019  \n",
       "2            6.4        2010  \n",
       "3            4.2        2014  \n",
       "4            6.5        2011  "
      ]
     },
     "execution_count": 16,
     "metadata": {},
     "output_type": "execute_result"
    }
   ],
   "source": [
    "genres_df.head() # Reviewing the structure of the df"
   ]
  },
  {
   "cell_type": "code",
   "execution_count": 17,
   "metadata": {},
   "outputs": [],
   "source": [
    "formatted_genres_df = genres_df.copy() # Creating a copy to format"
   ]
  },
  {
   "cell_type": "code",
   "execution_count": 18,
   "metadata": {},
   "outputs": [
    {
     "data": {
      "text/html": [
       "<div>\n",
       "<style scoped>\n",
       "    .dataframe tbody tr th:only-of-type {\n",
       "        vertical-align: middle;\n",
       "    }\n",
       "\n",
       "    .dataframe tbody tr th {\n",
       "        vertical-align: top;\n",
       "    }\n",
       "\n",
       "    .dataframe thead th {\n",
       "        text-align: right;\n",
       "    }\n",
       "</style>\n",
       "<table border=\"1\" class=\"dataframe\">\n",
       "  <thead>\n",
       "    <tr style=\"text-align: right;\">\n",
       "      <th></th>\n",
       "      <th>movie_id</th>\n",
       "      <th>primary_title</th>\n",
       "      <th>genres</th>\n",
       "      <th>averagerating</th>\n",
       "      <th>start_year</th>\n",
       "    </tr>\n",
       "  </thead>\n",
       "  <tbody>\n",
       "  </tbody>\n",
       "</table>\n",
       "</div>"
      ],
      "text/plain": [
       "Empty DataFrame\n",
       "Columns: [movie_id, primary_title, genres, averagerating, start_year]\n",
       "Index: []"
      ]
     },
     "execution_count": 18,
     "metadata": {},
     "output_type": "execute_result"
    }
   ],
   "source": [
    "# Again checking for duplicates\n",
    "formatted_genres_df[formatted_genres_df.duplicated()]"
   ]
  },
  {
   "cell_type": "markdown",
   "metadata": {},
   "source": [
    "The above code created an empty DF meaning that there were no duplicate entries <br />\n",
    "**Note:** We checked for duplicates which checks over several factors to determine if the data is duplicated. Many movies have the same title which is what we see below but these are sepearate entries"
   ]
  },
  {
   "cell_type": "code",
   "execution_count": 19,
   "metadata": {},
   "outputs": [
    {
     "data": {
      "text/plain": [
       "The Return                                                        11\n",
       "Broken                                                            10\n",
       "Homecoming                                                         9\n",
       "Together                                                           9\n",
       "Lucky                                                              9\n",
       "                                                                  ..\n",
       "Only New Orleans                                                   1\n",
       "Jagger Gravning Syndrome: The Greatest Documentary of Our Time     1\n",
       "Me Without You                                                     1\n",
       "Anjali CBI                                                         1\n",
       "Pencils Down! The 100 Days of the Writers Guild Strike             1\n",
       "Name: primary_title, Length: 69993, dtype: int64"
      ]
     },
     "execution_count": 19,
     "metadata": {},
     "output_type": "execute_result"
    }
   ],
   "source": [
    "formatted_genres_df['primary_title'].value_counts()"
   ]
  },
  {
   "cell_type": "markdown",
   "metadata": {},
   "source": [
    "Next we will want to split up the genres into a more workable format for us. From \"Action, Adventure, Fantasy\" as one string to having each genre listed by itself"
   ]
  },
  {
   "cell_type": "code",
   "execution_count": 20,
   "metadata": {},
   "outputs": [],
   "source": [
    "formatted_genres_df['genres'] = formatted_genres_df['genres'].str.split(',') # Splits the data by the ,\n",
    "# creates multiple entries with each entry being linked to the seperated genres\n",
    "formatted_genres_df = formatted_genres_df.explode('genres') "
   ]
  },
  {
   "cell_type": "code",
   "execution_count": 21,
   "metadata": {},
   "outputs": [
    {
     "data": {
      "text/html": [
       "<div>\n",
       "<style scoped>\n",
       "    .dataframe tbody tr th:only-of-type {\n",
       "        vertical-align: middle;\n",
       "    }\n",
       "\n",
       "    .dataframe tbody tr th {\n",
       "        vertical-align: top;\n",
       "    }\n",
       "\n",
       "    .dataframe thead th {\n",
       "        text-align: right;\n",
       "    }\n",
       "</style>\n",
       "<table border=\"1\" class=\"dataframe\">\n",
       "  <thead>\n",
       "    <tr style=\"text-align: right;\">\n",
       "      <th></th>\n",
       "      <th>movie_id</th>\n",
       "      <th>primary_title</th>\n",
       "      <th>genres</th>\n",
       "      <th>averagerating</th>\n",
       "      <th>start_year</th>\n",
       "    </tr>\n",
       "  </thead>\n",
       "  <tbody>\n",
       "    <tr>\n",
       "      <th>0</th>\n",
       "      <td>tt10356526</td>\n",
       "      <td>Laiye Je Yaarian</td>\n",
       "      <td>Romance</td>\n",
       "      <td>8.3</td>\n",
       "      <td>2019</td>\n",
       "    </tr>\n",
       "    <tr>\n",
       "      <th>1</th>\n",
       "      <td>tt10384606</td>\n",
       "      <td>Borderless</td>\n",
       "      <td>Documentary</td>\n",
       "      <td>8.9</td>\n",
       "      <td>2019</td>\n",
       "    </tr>\n",
       "    <tr>\n",
       "      <th>2</th>\n",
       "      <td>tt1042974</td>\n",
       "      <td>Just Inès</td>\n",
       "      <td>Drama</td>\n",
       "      <td>6.4</td>\n",
       "      <td>2010</td>\n",
       "    </tr>\n",
       "    <tr>\n",
       "      <th>3</th>\n",
       "      <td>tt1043726</td>\n",
       "      <td>The Legend of Hercules</td>\n",
       "      <td>Action</td>\n",
       "      <td>4.2</td>\n",
       "      <td>2014</td>\n",
       "    </tr>\n",
       "    <tr>\n",
       "      <th>3</th>\n",
       "      <td>tt1043726</td>\n",
       "      <td>The Legend of Hercules</td>\n",
       "      <td>Adventure</td>\n",
       "      <td>4.2</td>\n",
       "      <td>2014</td>\n",
       "    </tr>\n",
       "    <tr>\n",
       "      <th>3</th>\n",
       "      <td>tt1043726</td>\n",
       "      <td>The Legend of Hercules</td>\n",
       "      <td>Fantasy</td>\n",
       "      <td>4.2</td>\n",
       "      <td>2014</td>\n",
       "    </tr>\n",
       "    <tr>\n",
       "      <th>4</th>\n",
       "      <td>tt1060240</td>\n",
       "      <td>Até Onde?</td>\n",
       "      <td>Mystery</td>\n",
       "      <td>6.5</td>\n",
       "      <td>2011</td>\n",
       "    </tr>\n",
       "    <tr>\n",
       "      <th>4</th>\n",
       "      <td>tt1060240</td>\n",
       "      <td>Até Onde?</td>\n",
       "      <td>Thriller</td>\n",
       "      <td>6.5</td>\n",
       "      <td>2011</td>\n",
       "    </tr>\n",
       "    <tr>\n",
       "      <th>5</th>\n",
       "      <td>tt1069246</td>\n",
       "      <td>Habana Eva</td>\n",
       "      <td>Comedy</td>\n",
       "      <td>6.2</td>\n",
       "      <td>2010</td>\n",
       "    </tr>\n",
       "    <tr>\n",
       "      <th>5</th>\n",
       "      <td>tt1069246</td>\n",
       "      <td>Habana Eva</td>\n",
       "      <td>Romance</td>\n",
       "      <td>6.2</td>\n",
       "      <td>2010</td>\n",
       "    </tr>\n",
       "    <tr>\n",
       "      <th>6</th>\n",
       "      <td>tt1094666</td>\n",
       "      <td>The Hammer</td>\n",
       "      <td>Biography</td>\n",
       "      <td>7.0</td>\n",
       "      <td>2010</td>\n",
       "    </tr>\n",
       "    <tr>\n",
       "      <th>6</th>\n",
       "      <td>tt1094666</td>\n",
       "      <td>The Hammer</td>\n",
       "      <td>Drama</td>\n",
       "      <td>7.0</td>\n",
       "      <td>2010</td>\n",
       "    </tr>\n",
       "    <tr>\n",
       "      <th>6</th>\n",
       "      <td>tt1094666</td>\n",
       "      <td>The Hammer</td>\n",
       "      <td>Sport</td>\n",
       "      <td>7.0</td>\n",
       "      <td>2010</td>\n",
       "    </tr>\n",
       "    <tr>\n",
       "      <th>7</th>\n",
       "      <td>tt1130982</td>\n",
       "      <td>The Night Clerk</td>\n",
       "      <td>Drama</td>\n",
       "      <td>6.4</td>\n",
       "      <td>2011</td>\n",
       "    </tr>\n",
       "    <tr>\n",
       "      <th>7</th>\n",
       "      <td>tt1130982</td>\n",
       "      <td>The Night Clerk</td>\n",
       "      <td>Thriller</td>\n",
       "      <td>6.4</td>\n",
       "      <td>2011</td>\n",
       "    </tr>\n",
       "    <tr>\n",
       "      <th>8</th>\n",
       "      <td>tt1156528</td>\n",
       "      <td>Silent Sonata</td>\n",
       "      <td>Drama</td>\n",
       "      <td>7.2</td>\n",
       "      <td>2011</td>\n",
       "    </tr>\n",
       "    <tr>\n",
       "      <th>8</th>\n",
       "      <td>tt1156528</td>\n",
       "      <td>Silent Sonata</td>\n",
       "      <td>War</td>\n",
       "      <td>7.2</td>\n",
       "      <td>2011</td>\n",
       "    </tr>\n",
       "    <tr>\n",
       "      <th>9</th>\n",
       "      <td>tt1161457</td>\n",
       "      <td>Vanquisher</td>\n",
       "      <td>Action</td>\n",
       "      <td>4.2</td>\n",
       "      <td>2016</td>\n",
       "    </tr>\n",
       "    <tr>\n",
       "      <th>9</th>\n",
       "      <td>tt1161457</td>\n",
       "      <td>Vanquisher</td>\n",
       "      <td>Adventure</td>\n",
       "      <td>4.2</td>\n",
       "      <td>2016</td>\n",
       "    </tr>\n",
       "    <tr>\n",
       "      <th>9</th>\n",
       "      <td>tt1161457</td>\n",
       "      <td>Vanquisher</td>\n",
       "      <td>Sci-Fi</td>\n",
       "      <td>4.2</td>\n",
       "      <td>2016</td>\n",
       "    </tr>\n",
       "  </tbody>\n",
       "</table>\n",
       "</div>"
      ],
      "text/plain": [
       "     movie_id           primary_title       genres  averagerating  start_year\n",
       "0  tt10356526        Laiye Je Yaarian      Romance            8.3        2019\n",
       "1  tt10384606              Borderless  Documentary            8.9        2019\n",
       "2   tt1042974               Just Inès        Drama            6.4        2010\n",
       "3   tt1043726  The Legend of Hercules       Action            4.2        2014\n",
       "3   tt1043726  The Legend of Hercules    Adventure            4.2        2014\n",
       "3   tt1043726  The Legend of Hercules      Fantasy            4.2        2014\n",
       "4   tt1060240               Até Onde?      Mystery            6.5        2011\n",
       "4   tt1060240               Até Onde?     Thriller            6.5        2011\n",
       "5   tt1069246              Habana Eva       Comedy            6.2        2010\n",
       "5   tt1069246              Habana Eva      Romance            6.2        2010\n",
       "6   tt1094666              The Hammer    Biography            7.0        2010\n",
       "6   tt1094666              The Hammer        Drama            7.0        2010\n",
       "6   tt1094666              The Hammer        Sport            7.0        2010\n",
       "7   tt1130982         The Night Clerk        Drama            6.4        2011\n",
       "7   tt1130982         The Night Clerk     Thriller            6.4        2011\n",
       "8   tt1156528           Silent Sonata        Drama            7.2        2011\n",
       "8   tt1156528           Silent Sonata          War            7.2        2011\n",
       "9   tt1161457              Vanquisher       Action            4.2        2016\n",
       "9   tt1161457              Vanquisher    Adventure            4.2        2016\n",
       "9   tt1161457              Vanquisher       Sci-Fi            4.2        2016"
      ]
     },
     "execution_count": 21,
     "metadata": {},
     "output_type": "execute_result"
    }
   ],
   "source": [
    "formatted_genres_df.head(20) # Previewing the results of the split/explode"
   ]
  },
  {
   "cell_type": "markdown",
   "metadata": {},
   "source": [
    "Here we can see the genres were split out into multiple entries. So instead of The Legend of Hercules being one entry with the listing of \"Action, Adventure, Fantasy\" we have 3 separate entries. This is the same for all movies with multiple genres listed."
   ]
  },
  {
   "cell_type": "code",
   "execution_count": 22,
   "metadata": {},
   "outputs": [
    {
     "data": {
      "text/plain": [
       "Drama          30788\n",
       "Documentary    17753\n",
       "Comedy         17290\n",
       "Thriller        8217\n",
       "Horror          7674\n",
       "Action          6988\n",
       "Romance         6589\n",
       "Crime           4611\n",
       "Adventure       3817\n",
       "Biography       3809\n",
       "Family          3412\n",
       "Mystery         3039\n",
       "History         2825\n",
       "Sci-Fi          2206\n",
       "Fantasy         2126\n",
       "Music           1968\n",
       "Animation       1743\n",
       "Sport           1179\n",
       "War              853\n",
       "Musical          721\n",
       "News             579\n",
       "Western          280\n",
       "Reality-TV        17\n",
       "Adult              3\n",
       "Game-Show          2\n",
       "Short              1\n",
       "Name: genres, dtype: int64"
      ]
     },
     "execution_count": 22,
     "metadata": {},
     "output_type": "execute_result"
    }
   ],
   "source": [
    "# Checking how many listings of each genre there are\n",
    "formatted_genres_df['genres'].value_counts()"
   ]
  },
  {
   "cell_type": "markdown",
   "metadata": {},
   "source": [
    "We are going to remove the genres with only a few listings or else it would overly affect our aggregation"
   ]
  },
  {
   "cell_type": "code",
   "execution_count": 23,
   "metadata": {},
   "outputs": [
    {
     "data": {
      "text/plain": [
       "Drama          30788\n",
       "Documentary    17753\n",
       "Comedy         17290\n",
       "Thriller        8217\n",
       "Horror          7674\n",
       "Action          6988\n",
       "Romance         6589\n",
       "Crime           4611\n",
       "Adventure       3817\n",
       "Biography       3809\n",
       "Family          3412\n",
       "Mystery         3039\n",
       "History         2825\n",
       "Sci-Fi          2206\n",
       "Fantasy         2126\n",
       "Music           1968\n",
       "Animation       1743\n",
       "Sport           1179\n",
       "War              853\n",
       "Musical          721\n",
       "News             579\n",
       "Western          280\n",
       "Name: genres, dtype: int64"
      ]
     },
     "execution_count": 23,
     "metadata": {},
     "output_type": "execute_result"
    }
   ],
   "source": [
    "# Here we remove the genres \"Short, Game-Show, Adult, Reality-TV\" because they don't have enough data points\n",
    "values = set(formatted_genres_df['genres'].value_counts()[formatted_genres_df['genres'].value_counts() < 100].index)\n",
    "formatted_genres_df = formatted_genres_df[formatted_genres_df.genres.isin(values) == False]\n",
    "formatted_genres_df['genres'].value_counts()"
   ]
  },
  {
   "cell_type": "markdown",
   "metadata": {},
   "source": [
    "Again we will be looking at the before and after of the formatting"
   ]
  },
  {
   "cell_type": "code",
   "execution_count": 24,
   "metadata": {},
   "outputs": [
    {
     "data": {
      "text/html": [
       "<div>\n",
       "<style scoped>\n",
       "    .dataframe tbody tr th:only-of-type {\n",
       "        vertical-align: middle;\n",
       "    }\n",
       "\n",
       "    .dataframe tbody tr th {\n",
       "        vertical-align: top;\n",
       "    }\n",
       "\n",
       "    .dataframe thead th {\n",
       "        text-align: right;\n",
       "    }\n",
       "</style>\n",
       "<table border=\"1\" class=\"dataframe\">\n",
       "  <thead>\n",
       "    <tr style=\"text-align: right;\">\n",
       "      <th></th>\n",
       "      <th>movie_id</th>\n",
       "      <th>primary_title</th>\n",
       "      <th>genres</th>\n",
       "      <th>averagerating</th>\n",
       "      <th>start_year</th>\n",
       "    </tr>\n",
       "  </thead>\n",
       "  <tbody>\n",
       "    <tr>\n",
       "      <th>0</th>\n",
       "      <td>tt10356526</td>\n",
       "      <td>Laiye Je Yaarian</td>\n",
       "      <td>Romance</td>\n",
       "      <td>8.3</td>\n",
       "      <td>2019</td>\n",
       "    </tr>\n",
       "    <tr>\n",
       "      <th>1</th>\n",
       "      <td>tt10384606</td>\n",
       "      <td>Borderless</td>\n",
       "      <td>Documentary</td>\n",
       "      <td>8.9</td>\n",
       "      <td>2019</td>\n",
       "    </tr>\n",
       "    <tr>\n",
       "      <th>2</th>\n",
       "      <td>tt1042974</td>\n",
       "      <td>Just Inès</td>\n",
       "      <td>Drama</td>\n",
       "      <td>6.4</td>\n",
       "      <td>2010</td>\n",
       "    </tr>\n",
       "    <tr>\n",
       "      <th>3</th>\n",
       "      <td>tt1043726</td>\n",
       "      <td>The Legend of Hercules</td>\n",
       "      <td>Action,Adventure,Fantasy</td>\n",
       "      <td>4.2</td>\n",
       "      <td>2014</td>\n",
       "    </tr>\n",
       "    <tr>\n",
       "      <th>4</th>\n",
       "      <td>tt1060240</td>\n",
       "      <td>Até Onde?</td>\n",
       "      <td>Mystery,Thriller</td>\n",
       "      <td>6.5</td>\n",
       "      <td>2011</td>\n",
       "    </tr>\n",
       "    <tr>\n",
       "      <th>5</th>\n",
       "      <td>tt1069246</td>\n",
       "      <td>Habana Eva</td>\n",
       "      <td>Comedy,Romance</td>\n",
       "      <td>6.2</td>\n",
       "      <td>2010</td>\n",
       "    </tr>\n",
       "    <tr>\n",
       "      <th>6</th>\n",
       "      <td>tt1094666</td>\n",
       "      <td>The Hammer</td>\n",
       "      <td>Biography,Drama,Sport</td>\n",
       "      <td>7.0</td>\n",
       "      <td>2010</td>\n",
       "    </tr>\n",
       "    <tr>\n",
       "      <th>7</th>\n",
       "      <td>tt1130982</td>\n",
       "      <td>The Night Clerk</td>\n",
       "      <td>Drama,Thriller</td>\n",
       "      <td>6.4</td>\n",
       "      <td>2011</td>\n",
       "    </tr>\n",
       "    <tr>\n",
       "      <th>8</th>\n",
       "      <td>tt1156528</td>\n",
       "      <td>Silent Sonata</td>\n",
       "      <td>Drama,War</td>\n",
       "      <td>7.2</td>\n",
       "      <td>2011</td>\n",
       "    </tr>\n",
       "    <tr>\n",
       "      <th>9</th>\n",
       "      <td>tt1161457</td>\n",
       "      <td>Vanquisher</td>\n",
       "      <td>Action,Adventure,Sci-Fi</td>\n",
       "      <td>4.2</td>\n",
       "      <td>2016</td>\n",
       "    </tr>\n",
       "  </tbody>\n",
       "</table>\n",
       "</div>"
      ],
      "text/plain": [
       "     movie_id           primary_title                    genres  \\\n",
       "0  tt10356526        Laiye Je Yaarian                   Romance   \n",
       "1  tt10384606              Borderless               Documentary   \n",
       "2   tt1042974               Just Inès                     Drama   \n",
       "3   tt1043726  The Legend of Hercules  Action,Adventure,Fantasy   \n",
       "4   tt1060240               Até Onde?          Mystery,Thriller   \n",
       "5   tt1069246              Habana Eva            Comedy,Romance   \n",
       "6   tt1094666              The Hammer     Biography,Drama,Sport   \n",
       "7   tt1130982         The Night Clerk            Drama,Thriller   \n",
       "8   tt1156528           Silent Sonata                 Drama,War   \n",
       "9   tt1161457              Vanquisher   Action,Adventure,Sci-Fi   \n",
       "\n",
       "   averagerating  start_year  \n",
       "0            8.3        2019  \n",
       "1            8.9        2019  \n",
       "2            6.4        2010  \n",
       "3            4.2        2014  \n",
       "4            6.5        2011  \n",
       "5            6.2        2010  \n",
       "6            7.0        2010  \n",
       "7            6.4        2011  \n",
       "8            7.2        2011  \n",
       "9            4.2        2016  "
      ]
     },
     "execution_count": 24,
     "metadata": {},
     "output_type": "execute_result"
    }
   ],
   "source": [
    "# Before formatting\n",
    "genres_df.head(10)"
   ]
  },
  {
   "cell_type": "code",
   "execution_count": 25,
   "metadata": {},
   "outputs": [
    {
     "data": {
      "text/html": [
       "<div>\n",
       "<style scoped>\n",
       "    .dataframe tbody tr th:only-of-type {\n",
       "        vertical-align: middle;\n",
       "    }\n",
       "\n",
       "    .dataframe tbody tr th {\n",
       "        vertical-align: top;\n",
       "    }\n",
       "\n",
       "    .dataframe thead th {\n",
       "        text-align: right;\n",
       "    }\n",
       "</style>\n",
       "<table border=\"1\" class=\"dataframe\">\n",
       "  <thead>\n",
       "    <tr style=\"text-align: right;\">\n",
       "      <th></th>\n",
       "      <th>movie_id</th>\n",
       "      <th>primary_title</th>\n",
       "      <th>genres</th>\n",
       "      <th>averagerating</th>\n",
       "      <th>start_year</th>\n",
       "    </tr>\n",
       "  </thead>\n",
       "  <tbody>\n",
       "    <tr>\n",
       "      <th>0</th>\n",
       "      <td>tt10356526</td>\n",
       "      <td>Laiye Je Yaarian</td>\n",
       "      <td>Romance</td>\n",
       "      <td>8.3</td>\n",
       "      <td>2019</td>\n",
       "    </tr>\n",
       "    <tr>\n",
       "      <th>1</th>\n",
       "      <td>tt10384606</td>\n",
       "      <td>Borderless</td>\n",
       "      <td>Documentary</td>\n",
       "      <td>8.9</td>\n",
       "      <td>2019</td>\n",
       "    </tr>\n",
       "    <tr>\n",
       "      <th>2</th>\n",
       "      <td>tt1042974</td>\n",
       "      <td>Just Inès</td>\n",
       "      <td>Drama</td>\n",
       "      <td>6.4</td>\n",
       "      <td>2010</td>\n",
       "    </tr>\n",
       "    <tr>\n",
       "      <th>3</th>\n",
       "      <td>tt1043726</td>\n",
       "      <td>The Legend of Hercules</td>\n",
       "      <td>Action</td>\n",
       "      <td>4.2</td>\n",
       "      <td>2014</td>\n",
       "    </tr>\n",
       "    <tr>\n",
       "      <th>3</th>\n",
       "      <td>tt1043726</td>\n",
       "      <td>The Legend of Hercules</td>\n",
       "      <td>Adventure</td>\n",
       "      <td>4.2</td>\n",
       "      <td>2014</td>\n",
       "    </tr>\n",
       "    <tr>\n",
       "      <th>3</th>\n",
       "      <td>tt1043726</td>\n",
       "      <td>The Legend of Hercules</td>\n",
       "      <td>Fantasy</td>\n",
       "      <td>4.2</td>\n",
       "      <td>2014</td>\n",
       "    </tr>\n",
       "    <tr>\n",
       "      <th>4</th>\n",
       "      <td>tt1060240</td>\n",
       "      <td>Até Onde?</td>\n",
       "      <td>Mystery</td>\n",
       "      <td>6.5</td>\n",
       "      <td>2011</td>\n",
       "    </tr>\n",
       "    <tr>\n",
       "      <th>4</th>\n",
       "      <td>tt1060240</td>\n",
       "      <td>Até Onde?</td>\n",
       "      <td>Thriller</td>\n",
       "      <td>6.5</td>\n",
       "      <td>2011</td>\n",
       "    </tr>\n",
       "    <tr>\n",
       "      <th>5</th>\n",
       "      <td>tt1069246</td>\n",
       "      <td>Habana Eva</td>\n",
       "      <td>Comedy</td>\n",
       "      <td>6.2</td>\n",
       "      <td>2010</td>\n",
       "    </tr>\n",
       "    <tr>\n",
       "      <th>5</th>\n",
       "      <td>tt1069246</td>\n",
       "      <td>Habana Eva</td>\n",
       "      <td>Romance</td>\n",
       "      <td>6.2</td>\n",
       "      <td>2010</td>\n",
       "    </tr>\n",
       "  </tbody>\n",
       "</table>\n",
       "</div>"
      ],
      "text/plain": [
       "     movie_id           primary_title       genres  averagerating  start_year\n",
       "0  tt10356526        Laiye Je Yaarian      Romance            8.3        2019\n",
       "1  tt10384606              Borderless  Documentary            8.9        2019\n",
       "2   tt1042974               Just Inès        Drama            6.4        2010\n",
       "3   tt1043726  The Legend of Hercules       Action            4.2        2014\n",
       "3   tt1043726  The Legend of Hercules    Adventure            4.2        2014\n",
       "3   tt1043726  The Legend of Hercules      Fantasy            4.2        2014\n",
       "4   tt1060240               Até Onde?      Mystery            6.5        2011\n",
       "4   tt1060240               Até Onde?     Thriller            6.5        2011\n",
       "5   tt1069246              Habana Eva       Comedy            6.2        2010\n",
       "5   tt1069246              Habana Eva      Romance            6.2        2010"
      ]
     },
     "execution_count": 25,
     "metadata": {},
     "output_type": "execute_result"
    }
   ],
   "source": [
    "# After formatting\n",
    "formatted_genres_df.head(10)"
   ]
  },
  {
   "cell_type": "markdown",
   "metadata": {},
   "source": [
    "### Merging the two Dataframes\n",
    "We need to do this to be able to graph out the average grossing per genre"
   ]
  },
  {
   "cell_type": "code",
   "execution_count": 26,
   "metadata": {},
   "outputs": [],
   "source": [
    "# Renaming a column for the sake of making the merge easier\n",
    "formatted_movie_budgets_df.rename(columns = {'movie':'primary_title'}, inplace = True)"
   ]
  },
  {
   "cell_type": "code",
   "execution_count": 27,
   "metadata": {},
   "outputs": [],
   "source": [
    "# Merging the two dfs\n",
    "formatted_genres_with_gross = formatted_genres_df.merge(formatted_movie_budgets_df, on='primary_title')"
   ]
  },
  {
   "cell_type": "code",
   "execution_count": 28,
   "metadata": {},
   "outputs": [],
   "source": [
    "# dropping a superfluous column\n",
    "formatted_genres_with_gross.drop('start_year', axis=1, inplace=True)"
   ]
  },
  {
   "cell_type": "code",
   "execution_count": 29,
   "metadata": {},
   "outputs": [
    {
     "data": {
      "text/html": [
       "<div>\n",
       "<style scoped>\n",
       "    .dataframe tbody tr th:only-of-type {\n",
       "        vertical-align: middle;\n",
       "    }\n",
       "\n",
       "    .dataframe tbody tr th {\n",
       "        vertical-align: top;\n",
       "    }\n",
       "\n",
       "    .dataframe thead th {\n",
       "        text-align: right;\n",
       "    }\n",
       "</style>\n",
       "<table border=\"1\" class=\"dataframe\">\n",
       "  <thead>\n",
       "    <tr style=\"text-align: right;\">\n",
       "      <th></th>\n",
       "      <th>movie_id</th>\n",
       "      <th>primary_title</th>\n",
       "      <th>genres</th>\n",
       "      <th>averagerating</th>\n",
       "      <th>release_date</th>\n",
       "      <th>production_budget</th>\n",
       "      <th>worldwide_gross</th>\n",
       "      <th>release_month</th>\n",
       "    </tr>\n",
       "  </thead>\n",
       "  <tbody>\n",
       "    <tr>\n",
       "      <th>0</th>\n",
       "      <td>tt1043726</td>\n",
       "      <td>The Legend of Hercules</td>\n",
       "      <td>Action</td>\n",
       "      <td>4.2</td>\n",
       "      <td>2014-01-10</td>\n",
       "      <td>0.7000</td>\n",
       "      <td>0.589533</td>\n",
       "      <td>January</td>\n",
       "    </tr>\n",
       "    <tr>\n",
       "      <th>1</th>\n",
       "      <td>tt1043726</td>\n",
       "      <td>The Legend of Hercules</td>\n",
       "      <td>Adventure</td>\n",
       "      <td>4.2</td>\n",
       "      <td>2014-01-10</td>\n",
       "      <td>0.7000</td>\n",
       "      <td>0.589533</td>\n",
       "      <td>January</td>\n",
       "    </tr>\n",
       "    <tr>\n",
       "      <th>2</th>\n",
       "      <td>tt1043726</td>\n",
       "      <td>The Legend of Hercules</td>\n",
       "      <td>Fantasy</td>\n",
       "      <td>4.2</td>\n",
       "      <td>2014-01-10</td>\n",
       "      <td>0.7000</td>\n",
       "      <td>0.589533</td>\n",
       "      <td>January</td>\n",
       "    </tr>\n",
       "    <tr>\n",
       "      <th>3</th>\n",
       "      <td>tt1094666</td>\n",
       "      <td>The Hammer</td>\n",
       "      <td>Biography</td>\n",
       "      <td>7.0</td>\n",
       "      <td>2008-03-21</td>\n",
       "      <td>0.0085</td>\n",
       "      <td>0.004426</td>\n",
       "      <td>March</td>\n",
       "    </tr>\n",
       "    <tr>\n",
       "      <th>4</th>\n",
       "      <td>tt1094666</td>\n",
       "      <td>The Hammer</td>\n",
       "      <td>Drama</td>\n",
       "      <td>7.0</td>\n",
       "      <td>2008-03-21</td>\n",
       "      <td>0.0085</td>\n",
       "      <td>0.004426</td>\n",
       "      <td>March</td>\n",
       "    </tr>\n",
       "  </tbody>\n",
       "</table>\n",
       "</div>"
      ],
      "text/plain": [
       "    movie_id           primary_title     genres  averagerating release_date  \\\n",
       "0  tt1043726  The Legend of Hercules     Action            4.2   2014-01-10   \n",
       "1  tt1043726  The Legend of Hercules  Adventure            4.2   2014-01-10   \n",
       "2  tt1043726  The Legend of Hercules    Fantasy            4.2   2014-01-10   \n",
       "3  tt1094666              The Hammer  Biography            7.0   2008-03-21   \n",
       "4  tt1094666              The Hammer      Drama            7.0   2008-03-21   \n",
       "\n",
       "   production_budget  worldwide_gross release_month  \n",
       "0             0.7000         0.589533       January  \n",
       "1             0.7000         0.589533       January  \n",
       "2             0.7000         0.589533       January  \n",
       "3             0.0085         0.004426         March  \n",
       "4             0.0085         0.004426         March  "
      ]
     },
     "execution_count": 29,
     "metadata": {},
     "output_type": "execute_result"
    }
   ],
   "source": [
    "# Viewing the merged df\n",
    "formatted_genres_with_gross.head()"
   ]
  },
  {
   "cell_type": "markdown",
   "metadata": {},
   "source": [
    "# Visualizations"
   ]
  },
  {
   "cell_type": "markdown",
   "metadata": {},
   "source": [
    "### Each genres average rating and average grossing"
   ]
  },
  {
   "cell_type": "markdown",
   "metadata": {},
   "source": [
    "The first graph shows the genres based off of their average ratings in descending order <br />\n",
    "While the second graph shows the genres based off of the average grossing in descending order"
   ]
  },
  {
   "cell_type": "code",
   "execution_count": 30,
   "metadata": {},
   "outputs": [
    {
     "data": {
      "image/png": "[encoded data removed]",
      "text/plain": [
       "<Figure size 1800x576 with 1 Axes>"
      ]
     },
     "metadata": {
      "needs_background": "light"
     },
     "output_type": "display_data"
    }
   ],
   "source": [
    "plt.rc('font', size=10) #controls default text size\n",
    "plt.rc('axes', titlesize=30) #fontsize of the title\n",
    "plt.rc('axes', labelsize=30) #fontsize of the x and y labels\n",
    "plt.rc('xtick', labelsize=12) #fontsize of the x tick labels\n",
    "plt.rc('ytick', labelsize=15) #fontsize of the y tick labels\n",
    "\n",
    "# Orders data by descending median rating of each genres IMDB rating\n",
    "ordered_data = formatted_genres_df.groupby('genres').median().reset_index().sort_values('averagerating', ascending=False) \n",
    "f, ax = plt.subplots(figsize=(25,8)) # Sets figsize\n",
    "\n",
    "sns.barplot(x='genres', y='averagerating', data=ordered_data, color='#162fce', ci=None) # Plots the data/other basic formatting\n",
    "plt.title('Average IMDB Rating by Movie Genre') # Sets title\n",
    "plt.ylabel('Average IMDB Rating') # Sets y label\n",
    "plt.xlabel('Movie Genres'); # Sets x label. Include ; at the end to remove superfluous information"
   ]
  },
  {
   "cell_type": "code",
   "execution_count": 31,
   "metadata": {},
   "outputs": [
    {
     "data": {
      "image/png": "[encoded data removed]",
      "text/plain": [
       "<Figure size 1800x864 with 1 Axes>"
      ]
     },
     "metadata": {
      "needs_background": "light"
     },
     "output_type": "display_data"
    }
   ],
   "source": [
    "plt.rc('font', size=10) #controls default text size\n",
    "plt.rc('axes', titlesize=30) #fontsize of the title\n",
    "plt.rc('axes', labelsize=30) #fontsize of the x and y labels\n",
    "plt.rc('xtick', labelsize=12) #fontsize of the x tick labels\n",
    "plt.rc('ytick', labelsize=15) #fontsize of the y tick labels\n",
    "\n",
    "# Orders data by descending median rating of each genres grossing\n",
    "ordered_data = (formatted_genres_with_gross.groupby('genres')\n",
    "                .median()\n",
    "                .reset_index()\n",
    "                .sort_values('worldwide_gross', ascending=False))\n",
    "f, ax = plt.subplots(figsize=(25,12)) # Sets figsize\n",
    "\n",
    "# Plots the data/other basic formatting\n",
    "sns.barplot(x='genres', y='worldwide_gross', data=ordered_data, color='#162fce', ci=None) \n",
    "plt.title('Average Global Grossing by Movie Genre') # Sets title\n",
    "plt.ylabel('Average Worldwide Gross (100s of Million USD)') # Sets y label\n",
    "plt.xlabel('Movie Genres'); # Sets x label. Include ; at the end to remove superfluous information"
   ]
  },
  {
   "cell_type": "markdown",
   "metadata": {},
   "source": [
    "##### Take Aways:\n",
    "The studio should focus on producing movies from the top 5 grossing genres. The difference between the top rated genres and top grossing is very extreme. The highest average rated genres do not perform the best at the box office necessarily"
   ]
  },
  {
   "cell_type": "markdown",
   "metadata": {},
   "source": [
    "### Production Budget vs. Worldwide Gross\n",
    "Just a reminder of what the other Dataframe looks like"
   ]
  },
  {
   "cell_type": "code",
   "execution_count": 32,
   "metadata": {},
   "outputs": [
    {
     "data": {
      "text/html": [
       "<div>\n",
       "<style scoped>\n",
       "    .dataframe tbody tr th:only-of-type {\n",
       "        vertical-align: middle;\n",
       "    }\n",
       "\n",
       "    .dataframe tbody tr th {\n",
       "        vertical-align: top;\n",
       "    }\n",
       "\n",
       "    .dataframe thead th {\n",
       "        text-align: right;\n",
       "    }\n",
       "</style>\n",
       "<table border=\"1\" class=\"dataframe\">\n",
       "  <thead>\n",
       "    <tr style=\"text-align: right;\">\n",
       "      <th></th>\n",
       "      <th>release_date</th>\n",
       "      <th>primary_title</th>\n",
       "      <th>production_budget</th>\n",
       "      <th>worldwide_gross</th>\n",
       "      <th>release_month</th>\n",
       "    </tr>\n",
       "    <tr>\n",
       "      <th>id</th>\n",
       "      <th></th>\n",
       "      <th></th>\n",
       "      <th></th>\n",
       "      <th></th>\n",
       "      <th></th>\n",
       "    </tr>\n",
       "  </thead>\n",
       "  <tbody>\n",
       "    <tr>\n",
       "      <th>1</th>\n",
       "      <td>2009-12-18</td>\n",
       "      <td>Avatar</td>\n",
       "      <td>4.250</td>\n",
       "      <td>27.763453</td>\n",
       "      <td>December</td>\n",
       "    </tr>\n",
       "    <tr>\n",
       "      <th>2</th>\n",
       "      <td>2011-05-20</td>\n",
       "      <td>Pirates of the Caribbean: On Stranger Tides</td>\n",
       "      <td>4.106</td>\n",
       "      <td>10.456639</td>\n",
       "      <td>May</td>\n",
       "    </tr>\n",
       "    <tr>\n",
       "      <th>3</th>\n",
       "      <td>2019-06-07</td>\n",
       "      <td>Dark Phoenix</td>\n",
       "      <td>3.500</td>\n",
       "      <td>1.497623</td>\n",
       "      <td>June</td>\n",
       "    </tr>\n",
       "    <tr>\n",
       "      <th>4</th>\n",
       "      <td>2015-05-01</td>\n",
       "      <td>Avengers: Age of Ultron</td>\n",
       "      <td>3.306</td>\n",
       "      <td>14.030140</td>\n",
       "      <td>May</td>\n",
       "    </tr>\n",
       "    <tr>\n",
       "      <th>5</th>\n",
       "      <td>2017-12-15</td>\n",
       "      <td>Star Wars Ep. VIII: The Last Jedi</td>\n",
       "      <td>3.170</td>\n",
       "      <td>13.167217</td>\n",
       "      <td>December</td>\n",
       "    </tr>\n",
       "  </tbody>\n",
       "</table>\n",
       "</div>"
      ],
      "text/plain": [
       "   release_date                                primary_title  \\\n",
       "id                                                             \n",
       "1    2009-12-18                                       Avatar   \n",
       "2    2011-05-20  Pirates of the Caribbean: On Stranger Tides   \n",
       "3    2019-06-07                                 Dark Phoenix   \n",
       "4    2015-05-01                      Avengers: Age of Ultron   \n",
       "5    2017-12-15            Star Wars Ep. VIII: The Last Jedi   \n",
       "\n",
       "    production_budget  worldwide_gross release_month  \n",
       "id                                                    \n",
       "1               4.250        27.763453      December  \n",
       "2               4.106        10.456639           May  \n",
       "3               3.500         1.497623          June  \n",
       "4               3.306        14.030140           May  \n",
       "5               3.170        13.167217      December  "
      ]
     },
     "execution_count": 32,
     "metadata": {},
     "output_type": "execute_result"
    }
   ],
   "source": [
    "formatted_movie_budgets_df.head()"
   ]
  },
  {
   "cell_type": "markdown",
   "metadata": {},
   "source": [
    "**Note:** Pearson's correlation coefficient. This number ranges from -1 to 1 where 0 is no correlation, 1 is a perfect positive correlation and -1 is a perfect negative correlation. <br /> \n",
    "Our data at .74 has a substantial positive correlation <br />\n",
    "For additional reading on Pearson's correlation coefficent click [here](https://www.sciencedirect.com/topics/social-sciences/pearson-correlation-coefficient)"
   ]
  },
  {
   "cell_type": "code",
   "execution_count": 33,
   "metadata": {},
   "outputs": [
    {
     "data": {
      "text/html": [
       "<div>\n",
       "<style scoped>\n",
       "    .dataframe tbody tr th:only-of-type {\n",
       "        vertical-align: middle;\n",
       "    }\n",
       "\n",
       "    .dataframe tbody tr th {\n",
       "        vertical-align: top;\n",
       "    }\n",
       "\n",
       "    .dataframe thead th {\n",
       "        text-align: right;\n",
       "    }\n",
       "</style>\n",
       "<table border=\"1\" class=\"dataframe\">\n",
       "  <thead>\n",
       "    <tr style=\"text-align: right;\">\n",
       "      <th></th>\n",
       "      <th>worldwide_gross</th>\n",
       "      <th>production_budget</th>\n",
       "    </tr>\n",
       "  </thead>\n",
       "  <tbody>\n",
       "    <tr>\n",
       "      <th>worldwide_gross</th>\n",
       "      <td>1.000000</td>\n",
       "      <td>0.748306</td>\n",
       "    </tr>\n",
       "    <tr>\n",
       "      <th>production_budget</th>\n",
       "      <td>0.748306</td>\n",
       "      <td>1.000000</td>\n",
       "    </tr>\n",
       "  </tbody>\n",
       "</table>\n",
       "</div>"
      ],
      "text/plain": [
       "                   worldwide_gross  production_budget\n",
       "worldwide_gross           1.000000           0.748306\n",
       "production_budget         0.748306           1.000000"
      ]
     },
     "execution_count": 33,
     "metadata": {},
     "output_type": "execute_result"
    }
   ],
   "source": [
    "formatted_movie_budgets_df[['worldwide_gross', 'production_budget']].corr()"
   ]
  },
  {
   "cell_type": "code",
   "execution_count": 34,
   "metadata": {},
   "outputs": [
    {
     "data": {
      "image/png": "[encoded data removed]",
      "text/plain": [
       "<Figure size 720x720 with 1 Axes>"
      ]
     },
     "metadata": {
      "needs_background": "light"
     },
     "output_type": "display_data"
    }
   ],
   "source": [
    "plt.rc('font', size=10) #controls default text size\n",
    "plt.rc('axes', titlesize=30) #fontsize of the title\n",
    "plt.rc('axes', labelsize=20) #fontsize of the x and y labels\n",
    "plt.rc('xtick', labelsize=15) #fontsize of the x tick labels\n",
    "plt.rc('ytick', labelsize=15) #fontsize of the y tick labels\n",
    "\n",
    "f, ax = plt.subplots()\n",
    "plt.close(1) # Removes first empty graph\n",
    "\n",
    "# Plotting and some basic formatting\n",
    "sns.lmplot(x='production_budget', \n",
    "           y='worldwide_gross', \n",
    "           data=formatted_movie_budgets_df, \n",
    "           line_kws = {'color': 'red'}, \n",
    "           height=10, \n",
    "           markers = '.', \n",
    "           ci=1)\n",
    "plt.title('Movies Production Budget VS Movies Worldwide Gross') # Sets title\n",
    "plt.ylabel('Worldwide Gross (100s of million USD)') # Sets y label\n",
    "plt.xlabel('Production Budget (100s of million USD)'); # Sets x label. Include ; at the end to remove superfluous information"
   ]
  },
  {
   "cell_type": "markdown",
   "metadata": {},
   "source": [
    "##### Take Aways:\n",
    "There is a positive correlation between production budget and worldwide gross. We should recommend the studio have higher budgets"
   ]
  },
  {
   "cell_type": "markdown",
   "metadata": {},
   "source": [
    "### What months gross the most"
   ]
  },
  {
   "cell_type": "code",
   "execution_count": 35,
   "metadata": {},
   "outputs": [
    {
     "data": {
      "text/html": [
       "<div>\n",
       "<style scoped>\n",
       "    .dataframe tbody tr th:only-of-type {\n",
       "        vertical-align: middle;\n",
       "    }\n",
       "\n",
       "    .dataframe tbody tr th {\n",
       "        vertical-align: top;\n",
       "    }\n",
       "\n",
       "    .dataframe thead th {\n",
       "        text-align: right;\n",
       "    }\n",
       "</style>\n",
       "<table border=\"1\" class=\"dataframe\">\n",
       "  <thead>\n",
       "    <tr style=\"text-align: right;\">\n",
       "      <th></th>\n",
       "      <th>release_date</th>\n",
       "      <th>primary_title</th>\n",
       "      <th>production_budget</th>\n",
       "      <th>worldwide_gross</th>\n",
       "      <th>release_month</th>\n",
       "    </tr>\n",
       "    <tr>\n",
       "      <th>id</th>\n",
       "      <th></th>\n",
       "      <th></th>\n",
       "      <th></th>\n",
       "      <th></th>\n",
       "      <th></th>\n",
       "    </tr>\n",
       "  </thead>\n",
       "  <tbody>\n",
       "    <tr>\n",
       "      <th>1</th>\n",
       "      <td>2009-12-18</td>\n",
       "      <td>Avatar</td>\n",
       "      <td>4.250</td>\n",
       "      <td>27.763453</td>\n",
       "      <td>December</td>\n",
       "    </tr>\n",
       "    <tr>\n",
       "      <th>2</th>\n",
       "      <td>2011-05-20</td>\n",
       "      <td>Pirates of the Caribbean: On Stranger Tides</td>\n",
       "      <td>4.106</td>\n",
       "      <td>10.456639</td>\n",
       "      <td>May</td>\n",
       "    </tr>\n",
       "    <tr>\n",
       "      <th>3</th>\n",
       "      <td>2019-06-07</td>\n",
       "      <td>Dark Phoenix</td>\n",
       "      <td>3.500</td>\n",
       "      <td>1.497623</td>\n",
       "      <td>June</td>\n",
       "    </tr>\n",
       "    <tr>\n",
       "      <th>4</th>\n",
       "      <td>2015-05-01</td>\n",
       "      <td>Avengers: Age of Ultron</td>\n",
       "      <td>3.306</td>\n",
       "      <td>14.030140</td>\n",
       "      <td>May</td>\n",
       "    </tr>\n",
       "    <tr>\n",
       "      <th>5</th>\n",
       "      <td>2017-12-15</td>\n",
       "      <td>Star Wars Ep. VIII: The Last Jedi</td>\n",
       "      <td>3.170</td>\n",
       "      <td>13.167217</td>\n",
       "      <td>December</td>\n",
       "    </tr>\n",
       "  </tbody>\n",
       "</table>\n",
       "</div>"
      ],
      "text/plain": [
       "   release_date                                primary_title  \\\n",
       "id                                                             \n",
       "1    2009-12-18                                       Avatar   \n",
       "2    2011-05-20  Pirates of the Caribbean: On Stranger Tides   \n",
       "3    2019-06-07                                 Dark Phoenix   \n",
       "4    2015-05-01                      Avengers: Age of Ultron   \n",
       "5    2017-12-15            Star Wars Ep. VIII: The Last Jedi   \n",
       "\n",
       "    production_budget  worldwide_gross release_month  \n",
       "id                                                    \n",
       "1               4.250        27.763453      December  \n",
       "2               4.106        10.456639           May  \n",
       "3               3.500         1.497623          June  \n",
       "4               3.306        14.030140           May  \n",
       "5               3.170        13.167217      December  "
      ]
     },
     "execution_count": 35,
     "metadata": {},
     "output_type": "execute_result"
    }
   ],
   "source": [
    "formatted_movie_budgets_df.head() # Reviewing the df"
   ]
  },
  {
   "cell_type": "code",
   "execution_count": 36,
   "metadata": {},
   "outputs": [
    {
     "data": {
      "image/png": "[encoded data removed]",
      "text/plain": [
       "<Figure size 720x720 with 1 Axes>"
      ]
     },
     "metadata": {
      "needs_background": "light"
     },
     "output_type": "display_data"
    }
   ],
   "source": [
    "plt.figure(figsize=(10,10))\n",
    "# make barplot, basic formatting and sets order by month (January-December)\n",
    "sns.barplot(x='release_month', \n",
    "            y=\"worldwide_gross\", \n",
    "            data=formatted_movie_budgets_df, \n",
    "            order = ['January', 'February', 'March', 'April', 'May', 'June', 'July', 'August', 'September', 'October', 'November', 'December'],\n",
    "            ci = None,\n",
    "            color = '#162fce'\n",
    ")\n",
    "plt.xticks(rotation=30) # Sets rotation of xticks so they don't overlap\n",
    "plt.title('Average Worldwide Gross by Month for Movies') # Sets title\n",
    "plt.xlabel('Months') # Sets x label\n",
    "plt.ylabel('Worldwide Gross (100s of million USD)'); # Sets y label. Include ; at the end to remove superfluous information"
   ]
  },
  {
   "cell_type": "markdown",
   "metadata": {},
   "source": [
    "##### Take Aways:\n",
    "The studio should release movies during the months of May, June, July, and November.  During these months movies tend to gross significantly more"
   ]
  },
  {
   "cell_type": "markdown",
   "metadata": {},
   "source": [
    "# Evaluation\n",
    "Since these are just basic visualizations it is hard to fully evaluate the effectiveness of the recommendations. These recommendations also don't guarantee that a successful movie will be made. Just knowing what genres perform the best, the best release months, and that more should be spent on budget will only get you so far.\n",
    "Removing the outliers would have provided a more accurate Pearson's correlation coefficient for production budget vs worldwide gross.\n",
    "None of this data was adjusted for inflation either. So the results might not be applicable. The results also have a large time scale so some trends might not be relatable to the current markets. Especially with Covid the movie market is changing rapidly"
   ]
  },
  {
   "cell_type": "markdown",
   "metadata": {},
   "source": [
    "# Conclusions\n",
    "As mentioned above these are pretty basic visualizations so I can only be so confident with the recommendations. The 3 recommendations I came up with were to focus on producing movies from the highest grossing genres (Animation & Adventure), increase the production budget as this will yield to higher global grossing, and to release their movies during the months of May, June, July, or November since these months on average gross significantly more. <br />\n",
    "I would speculate these months gross more due to people having more free time during the summer months. And for November I am not sure as to why this month on average grossed more. This could have just been from the natural release cycle of blockbuster movies being ready for release in November. <br /><br />\n",
    "Additionally there is more you could do to provide more concrete and backed up recommendations but much of that would be beyond the scope of this project (doing sentiment analysis, predictive analysis, etc.). Within the scope of this project I would want to gain more insight on the movie industry to find out why November on average grosses more. In this analysis I only looked at global gross. I think it would be beneficial to look at total profit (including other sales not just box office) but that data was extremely difficult to find. All I saw were rough estimates and they were wiledly different depending on the sources you looked at. I would also like to look into more recommendations (Find which directors gross the most, look at the correlation between marketing budget and global gross, what release structure has performed the best during covid) just to list a few."
   ]
  }
 ],
 "metadata": {
  "kernelspec": {
   "display_name": "Python 3",
   "language": "python",
   "name": "python3"
  },
  "language_info": {
   "codemirror_mode": {
    "name": "ipython",
    "version": 3
   },
   "file_extension": ".py",
   "mimetype": "text/x-python",
   "name": "python",
   "nbconvert_exporter": "python",
   "pygments_lexer": "ipython3",
   "version": "3.8.5"
  }
 },
 "nbformat": 4,
 "nbformat_minor": 2
}
